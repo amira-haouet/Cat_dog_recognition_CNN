{
 "cells": [
  {
   "cell_type": "markdown",
   "id": "5de7f885",
   "metadata": {},
   "source": [
    "<h1> Deep Learning Project – Cats and Dogs Classification </h1>"
   ]
  },
  {
   "cell_type": "markdown",
   "id": "09624636",
   "metadata": {},
   "source": [
    "<p>Cats vs Dogs classification Deep Learning project for beginners. </p>"
   ]
  },
  {
   "cell_type": "markdown",
   "id": "1275a2ea",
   "metadata": {},
   "source": [
    "<h4> Import lib</h4>"
   ]
  },
  {
   "cell_type": "code",
   "execution_count": 2,
   "id": "b100d663",
   "metadata": {},
   "outputs": [],
   "source": [
    "import numpy as np\n",
    "import pandas as pd\n",
    "from keras.utils import to_categorical\n",
    "from sklearn.model_selection import train_test_split\n",
    "import matplotlib.pyplot as plt\n",
    "import random\n",
    "import os"
   ]
  },
  {
   "cell_type": "markdown",
   "id": "9df17fe3",
   "metadata": {},
   "source": [
    "<h4> Define image properties: </h4>\n",
    "\n"
   ]
  },
  {
   "cell_type": "code",
   "execution_count": 4,
   "id": "54027d0e",
   "metadata": {},
   "outputs": [],
   "source": [
    "Image_Width=128\n",
    "Image_Height=128\n",
    "Image_Size=(Image_Width,Image_Height)\n",
    "Image_Channels=3"
   ]
  },
  {
   "cell_type": "markdown",
   "id": "53f1c6fa",
   "metadata": {},
   "source": [
    "<h4> Prepare dataset for training model:</h4>\n",
    "\n"
   ]
  },
  {
   "cell_type": "code",
   "execution_count": null,
   "id": "56b83017",
   "metadata": {},
   "outputs": [],
   "source": []
  }
 ],
 "metadata": {
  "kernelspec": {
   "display_name": "Python 3 (ipykernel)",
   "language": "python",
   "name": "python3"
  },
  "language_info": {
   "codemirror_mode": {
    "name": "ipython",
    "version": 3
   },
   "file_extension": ".py",
   "mimetype": "text/x-python",
   "name": "python",
   "nbconvert_exporter": "python",
   "pygments_lexer": "ipython3",
   "version": "3.9.7"
  }
 },
 "nbformat": 4,
 "nbformat_minor": 5
}
